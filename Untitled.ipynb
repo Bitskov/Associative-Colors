{
 "cells": [
  {
   "cell_type": "code",
   "execution_count": 26,
   "metadata": {},
   "outputs": [],
   "source": [
    "import requests\n",
    "from PIL import Image\n",
    "import re\n",
    "import matplotlib.pyplot as plt\n",
    "from io import BytesIO\n",
    "import numpy as np\n",
    "from sklearn.cluster import KMeans\n",
    "from bs4 import BeautifulSoup\n",
    "from scipy import stats\n",
    "import time\n",
    "import spacy\n",
    "\n",
    "from selenium import webdriver\n",
    "from selenium.webdriver.common.keys import Keys\n",
    "from selenium.webdriver.support.ui import WebDriverWait\n",
    "from selenium.webdriver.support import expected_conditions as EC\n",
    "from selenium.webdriver.common.by import By"
   ]
  },
  {
   "cell_type": "code",
   "execution_count": 27,
   "metadata": {},
   "outputs": [],
   "source": [
    "url = \"https://duckduckgo.com/?q=%s&iar=images&iax=images&ia=images\"\n",
    "COLORS = {}\n",
    "\n",
    "\n",
    "driver = webdriver.Firefox()\n",
    "nlp = spacy.load('en_core_web_lg')"
   ]
  },
  {
   "cell_type": "code",
   "execution_count": 60,
   "metadata": {},
   "outputs": [],
   "source": [
    "def parse_text(text):\n",
    "    PUNCTUATION = {' ', ',', ';', ':', '-', '\\n'}\n",
    "    SENTENCE_SPLITERS = {'.', '!', '?'}\n",
    "  \n",
    "    text = text.lower()\n",
    "  \n",
    "    words = []\n",
    "  \n",
    "    word = \"\"\n",
    "    for ch in text:\n",
    "        if ch not in PUNCTUATION and ch not in SENTENCE_SPLITERS:\n",
    "            word += ch\n",
    "        else:\n",
    "            if word:\n",
    "                words.append(word)\n",
    "            word = \"\"\n",
    "    words.append(word)\n",
    "    return words"
   ]
  },
  {
   "cell_type": "code",
   "execution_count": 29,
   "metadata": {},
   "outputs": [],
   "source": [
    "def show_picture(image):\n",
    "    w, h = img.size\n",
    "    pic = np.array(list(img.getdata()))\n",
    "    plt.imshow(pic.reshape(h, w, 3));"
   ]
  },
  {
   "cell_type": "code",
   "execution_count": 30,
   "metadata": {},
   "outputs": [],
   "source": [
    "def get_image_color(image):\n",
    "    image = image.convert(\"RGB\").resize((1, 1))\n",
    "    color = list(image.getdata())\n",
    "    return color"
   ]
  },
  {
   "cell_type": "code",
   "execution_count": 31,
   "metadata": {},
   "outputs": [],
   "source": [
    "def get_word_links(word):\n",
    "    driver.get(\"https://duckduckgo.com/?q=%s&iar=images&iax=images&ia=images\" % word)\n",
    "    src = driver.page_source\n",
    "    parser = BeautifulSoup(src, \"html.parser\")\n",
    "    img_tags = parser.findAll('img')\n",
    "    links = []\n",
    "    for img in img_tags:\n",
    "        try:\n",
    "            if not 'assets' in img['src'] and not 'ico' in img['src']:\n",
    "                links.append(img['src'])\n",
    "        except:\n",
    "            pass\n",
    "        \n",
    "        if len(links) == 10:\n",
    "            break\n",
    "    return links"
   ]
  },
  {
   "cell_type": "code",
   "execution_count": 32,
   "metadata": {},
   "outputs": [],
   "source": [
    "def get_word_colors(word):\n",
    "    links = get_word_links(word)\n",
    "    pixels = []\n",
    "    for link in links:\n",
    "        if link[:5] != 'https':\n",
    "            link = 'https:' + link\n",
    "        response = requests.get(link)\n",
    "        img = Image.open(BytesIO(response.content))\n",
    "        pixels.append(get_image_color(img))\n",
    "        #show_picture(img)\n",
    "    return pixels"
   ]
  },
  {
   "cell_type": "code",
   "execution_count": 38,
   "metadata": {},
   "outputs": [],
   "source": [
    "def get_word_color(word):  \n",
    "    if word in COLORS.keys():\n",
    "        return COLORS[word]\n",
    "    colors = get_word_colors(word)\n",
    "    colors = np.array(sorted(colors))\n",
    "    colors.resize(10, 3)\n",
    "    km = KMeans(n_clusters=3)\n",
    "    km.fit(colors)\n",
    "    centers = km.cluster_centers_\n",
    "    predicted = []\n",
    "    #for color in colors:\n",
    "    #    predicted.append(*km.predict(color))\n",
    "    #predicted = np.array(sorted(predicted))\n",
    "    predicted = sorted(km.predict(colors))\n",
    "    i = stats.mode(predicted).mode\n",
    "    COLORS[word] = [int(j) for j in centers[i][0]]\n",
    "    return COLORS[word]"
   ]
  },
  {
   "cell_type": "code",
   "execution_count": 34,
   "metadata": {},
   "outputs": [],
   "source": [
    "#start = time.time()\n",
    "#color = get_word_color(\"red\")\n",
    "#print(color)\n",
    "#end = time.time()\n",
    "#print(end - start)"
   ]
  },
  {
   "cell_type": "code",
   "execution_count": 155,
   "metadata": {},
   "outputs": [
    {
     "data": {
      "text/plain": [
       "[<matplotlib.lines.Line2D at 0x22a42d39f28>,\n",
       " <matplotlib.lines.Line2D at 0x22a42d3c128>,\n",
       " <matplotlib.lines.Line2D at 0x22a42d3c278>]"
      ]
     },
     "execution_count": 155,
     "metadata": {},
     "output_type": "execute_result"
    },
    {
     "data": {
      "image/png": "[encoded data removed]",
      "text/plain": [
       "<Figure size 432x288 with 1 Axes>"
      ]
     },
     "metadata": {
      "needs_background": "light"
     },
     "output_type": "display_data"
    }
   ],
   "source": [
    "text = \"red green blue yellow brown\"\n",
    "pic = []\n",
    "for word in text.split():\n",
    "    pic.append(get_word_color(word))\n",
    "plt.imshow(np.array(pic));"
   ]
  },
  {
   "cell_type": "code",
   "execution_count": 35,
   "metadata": {},
   "outputs": [],
   "source": [
    "text = \"\"\"\n",
    "A hundred suns the sunset fired,\n",
    "into July summer shunted,\n",
    "it was so hot,\n",
    "even heat perspired-\n",
    "it happened in the country.\n",
    "The little hamlet known as Pushkino,\n",
    "Akula's Mount\n",
    "made hunchbacked.\n",
    "Below, the village\n",
    "seemed pushed-in so --\n",
    "its crooked roof-crusts cracked.\n",
    "And beyond that village\n",
    "yawned a hole,\n",
    "into that hole- and not just maybe -\n",
    "the sun for certain always rolled,\n",
    "slowly, surely, daily.\n",
    "At morn\n",
    "to flood the world\n",
    "again\n",
    "the sun rose up-\n",
    "and ruddied it.\n",
    "Day after day\n",
    "it happened this way,\n",
    "till I got \n",
    "fed up with it.\n",
    "And one day I let out such a shout,\n",
    "that everything grew pale,\n",
    "point-blank at the sun I yelled:\n",
    "'Get out!\n",
    "Enough of loafing there in hell!'\n",
    "To the sun I yelled:\n",
    "'You lazy mummer!\n",
    "in the clouds cushioning,\n",
    "while here - knowing neither winter nor summer,\n",
    "I sit, just posters brushing!'\n",
    "I yelled to the sun:\n",
    "\"\"\""
   ]
  },
  {
   "cell_type": "code",
   "execution_count": 42,
   "metadata": {},
   "outputs": [
    {
     "name": "stdout",
     "output_type": "stream",
     "text": [
      "a\n",
      "hundred\n",
      "sun\n",
      "the\n",
      "sunset\n",
      "fire\n",
      "into\n",
      "july\n",
      "summer\n",
      "shunt\n",
      "-PRON-\n",
      "be\n",
      "so\n",
      "hot\n",
      "even\n",
      "heat\n",
      "perspire\n",
      "-PRON-\n",
      "happen\n",
      "in\n",
      "the\n",
      "country\n",
      "the\n",
      "little\n",
      "hamlet\n",
      "know\n",
      "as\n",
      "pushkino\n",
      "akula\n",
      "'s\n",
      "mount\n",
      "make\n",
      "hunchbacked\n",
      "below\n",
      "the\n",
      "village\n",
      "seem\n",
      "push\n",
      "in\n",
      "so\n",
      "-PRON-\n",
      "crooked\n",
      "roof\n",
      "crust\n",
      "crack\n",
      "and\n",
      "beyond\n",
      "that\n",
      "village\n",
      "yawn\n",
      "a\n",
      "hole\n",
      "into\n",
      "that\n",
      "hole\n",
      "and\n",
      "not\n",
      "just\n",
      "maybe\n",
      "the\n",
      "sun\n",
      "for\n",
      "certain\n",
      "always\n"
     ]
    }
   ],
   "source": [
    "words = [token.lemma_ for token in nlp(\" \".join(parse_text(text)))]\n",
    "pic = []\n",
    "for word in words[:64]:\n",
    "    print(word)\n",
    "    pic.append(get_word_color(word))"
   ]
  },
  {
   "cell_type": "code",
   "execution_count": 49,
   "metadata": {},
   "outputs": [
    {
     "data": {
      "text/plain": [
       "<matplotlib.image.AxesImage at 0x250e4aa3208>"
      ]
     },
     "execution_count": 49,
     "metadata": {},
     "output_type": "execute_result"
    },
    {
     "data": {
      "image/png": "[encoded data removed]",
      "text/plain": [
       "<Figure size 432x288 with 1 Axes>"
      ]
     },
     "metadata": {
      "needs_background": "light"
     },
     "output_type": "display_data"
    }
   ],
   "source": [
    "pic = np.array(pic)\n",
    "pic = pic.reshape(8, 8, 3)\n",
    "plt.imshow(pic)"
   ]
  },
  {
   "cell_type": "code",
   "execution_count": 53,
   "metadata": {},
   "outputs": [
    {
     "data": {
      "text/plain": [
       "\"a hundred sun the sunset fire into july summer shunt -PRON- be so hot even heat perspire -PRON- happen in the country the little hamlet know as pushkino akula 's mount make hunchbacked below the village seem push in so -PRON- crooked roof crust crack and beyond that village yawn a hole into that hole and not just maybe the sun for certain always\""
      ]
     },
     "execution_count": 53,
     "metadata": {},
     "output_type": "execute_result"
    }
   ],
   "source": [
    "\" \".join(words[0:64])"
   ]
  },
  {
   "cell_type": "code",
   "execution_count": 65,
   "metadata": {},
   "outputs": [
    {
     "name": "stdout",
     "output_type": "stream",
     "text": [
      "kindness mercy mercifulness forgivingness\n",
      "evil immoral corruptive bad\n",
      "ugly hideous monstrous repulsive\n",
      "beautiful attractive lovely handsome\n",
      "[[[205, 132, 95], [126, 26, 19], [212, 230, 223], [30, 34, 24]], [[17, 7, 3], [86, 38, 58], [38, 34, 35], [115, 109, 94]], [[207, 154, 140], [200, 163, 132], [189, 189, 177], [222, 217, 208]], [[207, 177, 123], [82, 56, 49], [223, 189, 169], [195, 211, 193]]]\n"
     ]
    }
   ],
   "source": [
    "synonyms = [\"kindness mercy mercifulness forgivingness\", \"evil immoral corruptive bad\", \"ugly hideous monstrous repulsive\", \n",
    "            \"beautiful attractive lovely handsome\"]\n",
    "pics = []\n",
    "for row in synonyms:\n",
    "    print(\" \".join(parse_text(row)))\n",
    "    pic = [get_word_color(i) for i in [token.lemma_ for token in nlp(\" \".join(parse_text(row)))]]\n",
    "    pics.append(pic)\n",
    "print(pics)"
   ]
  },
  {
   "cell_type": "code",
   "execution_count": 71,
   "metadata": {},
   "outputs": [
    {
     "data": {
      "text/plain": [
       "<matplotlib.image.AxesImage at 0x250e4d17dd8>"
      ]
     },
     "execution_count": 71,
     "metadata": {},
     "output_type": "execute_result"
    },
    {
     "data": {
      "image/png": "[encoded data removed]",
      "text/plain": [
       "<Figure size 432x288 with 1 Axes>"
      ]
     },
     "metadata": {
      "needs_background": "light"
     },
     "output_type": "display_data"
    }
   ],
   "source": [
    "pic = np.array(pics[3]).reshape(1, 4, 3)\n",
    "plt.imshow(pic)"
   ]
  },
  {
   "cell_type": "code",
   "execution_count": null,
   "metadata": {},
   "outputs": [],
   "source": []
  }
 ],
 "metadata": {
  "kernelspec": {
   "display_name": "Python 3",
   "language": "python",
   "name": "python3"
  },
  "language_info": {
   "codemirror_mode": {
    "name": "ipython",
    "version": 3
   },
   "file_extension": ".py",
   "mimetype": "text/x-python",
   "name": "python",
   "nbconvert_exporter": "python",
   "pygments_lexer": "ipython3",
   "version": "3.6.5"
  }
 },
 "nbformat": 4,
 "nbformat_minor": 2
}
