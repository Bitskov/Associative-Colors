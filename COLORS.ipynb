{
 "cells": [
  {
   "cell_type": "code",
   "execution_count": 1,
   "metadata": {
    "colab": {
     "base_uri": "https://localhost:8080/",
     "height": 330
    },
    "colab_type": "code",
    "executionInfo": {
     "elapsed": 1127,
     "status": "error",
     "timestamp": 1553679423071,
     "user": {
      "displayName": "Alexei Bykov",
      "photoUrl": "",
      "userId": "16667694814986771673"
     },
     "user_tz": -480
    },
    "id": "2mB7e7pTKPE6",
    "outputId": "8bb6f72e-e319-4979-d63b-ba3756fe7cf3"
   },
   "outputs": [],
   "source": [
    "import requests\n",
    "import random\n",
    "import re\n",
    "import pickle\n",
    "import numpy as np\n",
    "from PIL import Image\n",
    "from io import BytesIO\n",
    "from sklearn.cluster import KMeans\n",
    "import matplotlib.pyplot as plt\n",
    "from math import sqrt\n",
    "import urllib\n",
    "import pickle"
   ]
  },
  {
   "cell_type": "code",
   "execution_count": 2,
   "metadata": {
    "colab": {},
    "colab_type": "code",
    "id": "y4rK9zvrKN-S"
   },
   "outputs": [],
   "source": [
    "headers = {\n",
    "    'user-agent': 'Mozilla/5.0 (Macintosh; Intel Mac OS X 10_11_6) '\n",
    "                  'AppleWebKit/537.36 (KHTML, like Gecko) '\n",
    "                  'Chrome/53.0.2785.143 Safari/537.36'\n",
    "}"
   ]
  },
  {
   "cell_type": "code",
   "execution_count": 17,
   "metadata": {
    "colab": {},
    "colab_type": "code",
    "id": "2ILhjtMBlRnY"
   },
   "outputs": [],
   "source": [
    "COLORS = {}\n",
    "#try:\n",
    "#    with open('colors.pkl', 'rb') as f:\n",
    "#        COLORS = pickle.load(f)\n",
    "#except IOError:\n",
    "#    pass"
   ]
  },
  {
   "cell_type": "code",
   "execution_count": 3,
   "metadata": {
    "colab": {},
    "colab_type": "code",
    "id": "Gq2_nFWuBTjq"
   },
   "outputs": [],
   "source": [
    "def get_word_color(word, COLORS):\n",
    "    if word in COLORS.keys():\n",
    "        return COLORS[word]\n",
    "    print(\"Govno\")\n",
    "    r = requests.get(\"https://duckduckgo.com/?q=%s&t=h_&iax=images&ia=images\" % \"+\".join(word.split()), headers=headers)\n",
    "    text = r.text \n",
    "  \n",
    "    #text = str((urllib.request.urlopen(\"https://duckduckgo.com/?q=%s&t=h_&iax=images&ia=images\" % \"+\".join(word.split()))).read(), encoding='utf-8')\n",
    "  \n",
    "    #print(text)\n",
    "    links = [i[0] for i in re.findall(\"(https?:/{2}\\S+\\.(png|jpg|gif))\", text)]\n",
    "    colors = []\n",
    "    #print(links)\n",
    "    \n",
    "    for link in links:\n",
    "        response = requests.get(link)\n",
    "        img = Image.open(BytesIO(response.content))\n",
    "        img = img.convert(\"RGB\")\n",
    "        img = img.resize((100, 100))\n",
    "    \n",
    "        data = list(img.getdata())     \n",
    "        km = KMeans(n_clusters=3)\n",
    "        km.fit(data)\n",
    "    \n",
    "        colors.extend(km.cluster_centers_)\n",
    "  \n",
    "        if len(colors) >= 30:\n",
    "           break\n",
    "    \n",
    "    if (np.array(colors).ndim == 2):\n",
    "        km = KMeans(n_clusters=3)\n",
    "        km.fit(colors)\n",
    "        centers = km.cluster_centers_\n",
    "    else:\n",
    "        centers = [(random.randint(0, 255), random.randint(0, 255), random.randint(0, 255),) for _ in range(10)]\n",
    "  \n",
    "    colors = [(int(i[0]), int(i[1]), int(i[2]),) for i in centers]\n",
    "    if colors[1] not in COLORS.values():\n",
    "        COLORS[word] = colors[1]\n",
    "    else:\n",
    "        if colors[0] not in COLORS.values():\n",
    "            COLORS[word] = colors[0]\n",
    "        elif colors[2] not in COLORS.values():\n",
    "            COLORS[word] = colors[2]\n",
    "        else:\n",
    "            color = colors[1]\n",
    "            while color in COLORS.values():\n",
    "                i = random.randint(0, 2)\n",
    "                color = list(color)\n",
    "                color[i] += random.randint(-2, 2)\n",
    "                if color[i] >= 255:\n",
    "                    color[i] = 255\n",
    "                elif color[i] <= 0:\n",
    "                    color[i] = 0\n",
    "                color = tuple(color)\n",
    "            COLORS[word] = colo\n",
    "        \n",
    "    colors = []\n",
    "    max_color = max(COLORS[word])\n",
    "    for color in COLORS[word]:\n",
    "       # c = int(color/max_color * (max_color//2))\n",
    "        colors.append(color)\n",
    "       # print(c)\n",
    "    \n",
    "    return colors\n",
    "  "
   ]
  },
  {
   "cell_type": "code",
   "execution_count": 19,
   "metadata": {
    "colab": {},
    "colab_type": "code",
    "id": "f0v61hjbe9kU"
   },
   "outputs": [],
   "source": [
    "def parse_text(text):\n",
    "  PUNCTUATION = {' ', ',', ';', ':', '-', '\\n'}\n",
    "  SENTENCE_SPLITERS = {'.', '!', '?'}\n",
    "  \n",
    "  text = text.lower()\n",
    "  \n",
    "  words = []\n",
    "  pairs = []\n",
    "  \n",
    "  word = \"\"\n",
    "  for ch in text:\n",
    "    if ch not in PUNCTUATION and ch not in SENTENCE_SPLITERS:\n",
    "      word += ch\n",
    "    else:\n",
    "      if word:\n",
    "        words.append(word)\n",
    "      word = \"\"\n",
    "  return words"
   ]
  },
  {
   "cell_type": "code",
   "execution_count": 26,
   "metadata": {
    "colab": {
     "base_uri": "https://localhost:8080/",
     "height": 467
    },
    "colab_type": "code",
    "executionInfo": {
     "elapsed": 900,
     "status": "error",
     "timestamp": 1553674091199,
     "user": {
      "displayName": "Alexei Bykov",
      "photoUrl": "",
      "userId": "16667694814986771673"
     },
     "user_tz": -480
    },
    "id": "Zlv07M1lCPus",
    "outputId": "e3a3d1f8-ee86-4efb-8ef4-490ba396234d",
    "scrolled": false
   },
   "outputs": [
    {
     "name": "stdout",
     "output_type": "stream",
     "text": [
      "kek\n",
      "Govno\n"
     ]
    },
    {
     "name": "stderr",
     "output_type": "stream",
     "text": [
      "c:\\pythonprojects\\colors\\venv\\lib\\site-packages\\sklearn\\cluster\\k_means_.py:971: ConvergenceWarning: Number of distinct clusters (1) found smaller than n_clusters (3). Possibly due to duplicate points in X.\n",
      "  return_n_iter=True)\n"
     ]
    },
    {
     "name": "stdout",
     "output_type": "stream",
     "text": [
      "[82, 84, 72]\n",
      "[82, 109.2, 72]\n"
     ]
    }
   ],
   "source": [
    "#def get_word_color(kek, lol):\n",
    "  #  return [48,47,67]\n",
    "for word in parse_text(text): \n",
    "    while True:\n",
    "        #try:\n",
    "            print(\"kek\")\n",
    "            color = get_word_color(word, COLORS)\n",
    "            print(color)\n",
    "            max_color = max(color)\n",
    "            colors = []\n",
    "            for i in range(len(color)):\n",
    "                if color[i] == max_color:\n",
    "                    color[i]*=1.3\n",
    "            color = list(map(lambda x: 254 if x>=255 else x, color))\n",
    "            print(color)   \n",
    "            #print(word , get_word_color(word, c))            \n",
    "            break\n",
    "        #except:\n",
    "          #  continue"
   ]
  },
  {
   "cell_type": "code",
   "execution_count": 9,
   "metadata": {
    "colab": {},
    "colab_type": "code",
    "id": "wE0mekkgro81"
   },
   "outputs": [],
   "source": [
    "def text_to_image(text):\n",
    "  words = parse_text(text)\n",
    "  img = []\n",
    "  for word in words:\n",
    "    img.append(get_word_color(word, COLORS))\n",
    "  img = np.array(img, dtype='object')[:64]\n",
    "  img = img.reshape(8, 8, 3)\n",
    "  return img\n",
    "  #plt.imshow(img)"
   ]
  },
  {
   "cell_type": "code",
   "execution_count": 7,
   "metadata": {
    "colab": {},
    "colab_type": "code",
    "id": "huuyzuRFUoQp"
   },
   "outputs": [],
   "source": [
    "text = \"\"\"\n",
    "Shall I compare thee to a summer’s day?\n",
    "Thou art more lovely and more temperate.\n",
    "Rough winds do shake the darling buds of May,\n",
    "And summer’s lease hath all too short a date.\n",
    "Sometime too hot the eye of heaven shines,\n",
    "And often is his gold complexion dimmed;\n",
    "And every fair from fair sometime declines,\n",
    "By chance, or nature’s changing course, untrimmed;\n",
    "But thy eternal summer shall not fade,\n",
    "Nor lose possession of that fair thou ow’st,\n",
    "Nor shall death brag thou wand’rest in his shade,\n",
    "When in eternal lines to Time thou grow’st.\n",
    "     So long as men can breathe, or eyes can see,\n",
    "     So long lives this, and this gives life to thee.\"\"\""
   ]
  },
  {
   "cell_type": "code",
   "execution_count": 11,
   "metadata": {
    "colab": {},
    "colab_type": "code",
    "id": "PCLMFkRHYLS8"
   },
   "outputs": [],
   "source": [
    "text = \"\"\"\n",
    "A hundred suns the sunset fired,\n",
    "into July summer shunted,\n",
    "it was so hot,\n",
    "even heat perspired-\n",
    "it happened in the country.\n",
    "The little hamlet known as Pushkino,\n",
    "Akula's Mount\n",
    "made hunchbacked.\n",
    "Below, the village\n",
    "seemed pushed-in so --\n",
    "its crooked roof-crusts cracked.\n",
    "And beyond that village\n",
    "yawned a hole,\n",
    "into that hole- and not just maybe -\n",
    "the sun for certain always rolled,\n",
    "slowly, surely, daily.\n",
    "At morn\n",
    "to flood the world\n",
    "again\n",
    "the sun rose up-\n",
    "and ruddied it.\n",
    "Day after day\n",
    "it happened this way,\n",
    "till I got \n",
    "fed up with it.\n",
    "And one day I let out such a shout,\n",
    "that everything grew pale,\n",
    "point-blank at the sun I yelled:\n",
    "'Get out!\n",
    "Enough of loafing there in hell!'\n",
    "To the sun I yelled:\n",
    "'You lazy mummer!\n",
    "in the clouds cushioning,\n",
    "while here - knowing neither winter nor summer,\n",
    "I sit, just posters brushing!'\n",
    "I yelled to the sun:\n",
    "\"\"\""
   ]
  },
  {
   "cell_type": "code",
   "execution_count": 25,
   "metadata": {
    "colab": {},
    "colab_type": "code",
    "id": "Mrfp1ZdMa67N"
   },
   "outputs": [],
   "source": [
    "text = \"banana banana\""
   ]
  },
  {
   "cell_type": "code",
   "execution_count": 136,
   "metadata": {
    "colab": {
     "base_uri": "https://localhost:8080/",
     "height": 34
    },
    "colab_type": "code",
    "executionInfo": {
     "elapsed": 858,
     "status": "ok",
     "timestamp": 1553609809659,
     "user": {
      "displayName": "Alexei Bykov",
      "photoUrl": "",
      "userId": "16667694814986771673"
     },
     "user_tz": -480
    },
    "id": "PZXAohHAgLZ1",
    "outputId": "346683de-9ce5-407b-a2e9-a968aa255c0d"
   },
   "outputs": [
    {
     "data": {
      "text/plain": [
       "(8, 8, 3)"
      ]
     },
     "execution_count": 136,
     "metadata": {},
     "output_type": "execute_result"
    }
   ],
   "source": [
    "img = text_to_image(text)\n",
    "img.shape"
   ]
  },
  {
   "cell_type": "code",
   "execution_count": 27,
   "metadata": {
    "colab": {
     "base_uri": "https://localhost:8080/",
     "height": 364
    },
    "colab_type": "code",
    "executionInfo": {
     "elapsed": 1041,
     "status": "ok",
     "timestamp": 1553609811668,
     "user": {
      "displayName": "Alexei Bykov",
      "photoUrl": "",
      "userId": "16667694814986771673"
     },
     "user_tz": -480
    },
    "id": "i2gteFRwgv8F",
    "outputId": "77027913-0eb2-4b70-8224-88ea10d98619"
   },
   "outputs": [
    {
     "ename": "NameError",
     "evalue": "name 'img' is not defined",
     "output_type": "error",
     "traceback": [
      "\u001b[1;31m---------------------------------------------------------------------------\u001b[0m",
      "\u001b[1;31mNameError\u001b[0m                                 Traceback (most recent call last)",
      "\u001b[1;32m<ipython-input-27-015551a4d12c>\u001b[0m in \u001b[0;36m<module>\u001b[1;34m\u001b[0m\n\u001b[1;32m----> 1\u001b[1;33m \u001b[0mimg\u001b[0m \u001b[1;33m=\u001b[0m \u001b[0mimg\u001b[0m\u001b[1;33m.\u001b[0m\u001b[0mastype\u001b[0m\u001b[1;33m(\u001b[0m\u001b[0mfloat\u001b[0m\u001b[1;33m)\u001b[0m\u001b[1;33m/\u001b[0m\u001b[1;36m255\u001b[0m\u001b[1;33m\u001b[0m\u001b[0m\n\u001b[0m\u001b[0;32m      2\u001b[0m \u001b[0mplt\u001b[0m\u001b[1;33m.\u001b[0m\u001b[0mimshow\u001b[0m\u001b[1;33m(\u001b[0m\u001b[0mimg\u001b[0m\u001b[1;33m[\u001b[0m\u001b[1;33m:\u001b[0m\u001b[1;33m:\u001b[0m\u001b[1;33m,\u001b[0m\u001b[1;33m:\u001b[0m\u001b[1;33m:\u001b[0m\u001b[1;33m,\u001b[0m\u001b[1;33m:\u001b[0m\u001b[1;33m:\u001b[0m\u001b[1;33m-\u001b[0m\u001b[1;36m1\u001b[0m\u001b[1;33m]\u001b[0m\u001b[1;33m)\u001b[0m\u001b[1;33m\u001b[0m\u001b[0m\n\u001b[0;32m      3\u001b[0m \u001b[1;31m#img[0,0,::-1]\u001b[0m\u001b[1;33m\u001b[0m\u001b[1;33m\u001b[0m\u001b[0m\n",
      "\u001b[1;31mNameError\u001b[0m: name 'img' is not defined"
     ]
    }
   ],
   "source": [
    "img = img.astype(float)/255\n",
    "plt.imshow(img[::,::,::-1])\n",
    "#img[0,0,::-1]"
   ]
  },
  {
   "cell_type": "code",
   "execution_count": 134,
   "metadata": {
    "colab": {
     "base_uri": "https://localhost:8080/",
     "height": 364
    },
    "colab_type": "code",
    "executionInfo": {
     "elapsed": 1364,
     "status": "ok",
     "timestamp": 1553596254596,
     "user": {
      "displayName": "Alexei Bykov",
      "photoUrl": "",
      "userId": "16667694814986771673"
     },
     "user_tz": -480
    },
    "id": "cDKXmiZgWtdJ",
    "outputId": "6238e7ce-40f6-4759-f599-8dc1865e4053"
   },
   "outputs": [
    {
     "data": {
      "text/plain": [
       "<matplotlib.image.AxesImage at 0x191062d1240>"
      ]
     },
     "execution_count": 134,
     "metadata": {},
     "output_type": "execute_result"
    },
    {
     "data": {
      "image/png": "[encoded data removed]",
      "text/plain": [
       "<Figure size 432x288 with 1 Axes>"
      ]
     },
     "metadata": {
      "needs_background": "light"
     },
     "output_type": "display_data"
    }
   ],
   "source": [
    "#\"winter men summer sun sunset death lovely \"\n",
    "plt.imshow(img[:,:,::])"
   ]
  },
  {
   "cell_type": "code",
   "execution_count": 135,
   "metadata": {
    "colab": {
     "base_uri": "https://localhost:8080/",
     "height": 364
    },
    "colab_type": "code",
    "executionInfo": {
     "elapsed": 1008,
     "status": "ok",
     "timestamp": 1553595840768,
     "user": {
      "displayName": "Alexei Bykov",
      "photoUrl": "",
      "userId": "16667694814986771673"
     },
     "user_tz": -480
    },
    "id": "p42ZNdzaXBst",
    "outputId": "ddee7e96-9839-4cb4-c493-00806388c35f"
   },
   "outputs": [
    {
     "data": {
      "text/plain": [
       "<matplotlib.image.AxesImage at 0x1910636a780>"
      ]
     },
     "execution_count": 135,
     "metadata": {},
     "output_type": "execute_result"
    },
    {
     "data": {
      "image/png": "[encoded data removed]",
      "text/plain": [
       "<Figure size 432x288 with 1 Axes>"
      ]
     },
     "metadata": {
      "needs_background": "light"
     },
     "output_type": "display_data"
    }
   ],
   "source": [
    "#\"winter men summer sun sunset death lovely \"\n",
    "plt.imshow(img[:,:,::-1])"
   ]
  },
  {
   "cell_type": "code",
   "execution_count": 1,
   "metadata": {
    "colab": {},
    "colab_type": "code",
    "id": "4z_Vui4AhzRr"
   },
   "outputs": [],
   "source": [
    "text = \"\"\"\n",
    "A hundred suns the sunset fired,\n",
    "into July summer shunted,\n",
    "it was so hot,\n",
    "even heat perspired-\n",
    "it happened in the country.\n",
    "The little hamlet known as Pushkino,\n",
    "Akula's Mount\n",
    "made hunchbacked.\n",
    "Below, the village\n",
    "seemed pushed-in so --\n",
    "its crooked roof-crusts cracked.\n",
    "And beyond that village\n",
    "yawned a hole,\n",
    "into that hole- and not just maybe -\n",
    "the sun for certain always rolled,\n",
    "slowly, surely, daily.\n",
    "At morn\n",
    "to flood the world\n",
    "again\n",
    "the sun rose up-\n",
    "and ruddied it.\n",
    "Day after day\n",
    "it happened this way,\n",
    "till I got \n",
    "fed up with it.\n",
    "And one day I let out such a shout,\n",
    "that everything grew pale,\n",
    "point-blank at the sun I yelled:\n",
    "'Get out!\n",
    "Enough of loafing there in hell!'\n",
    "To the sun I yelled:\n",
    "'You lazy mummer!\n",
    "in the clouds cushioning,\n",
    "while here - knowing neither winter nor summer,\n",
    "I sit, just posters brushing!'\n",
    "I yelled to the sun:\n",
    "\"\"\""
   ]
  },
  {
   "cell_type": "code",
   "execution_count": 3,
   "metadata": {},
   "outputs": [
    {
     "data": {
      "text/plain": [
       "152"
      ]
     },
     "execution_count": 3,
     "metadata": {},
     "output_type": "execute_result"
    }
   ],
   "source": [
    "len(text.split())"
   ]
  },
  {
   "cell_type": "code",
   "execution_count": null,
   "metadata": {},
   "outputs": [],
   "source": [
    "r = requests.get()"
   ]
  },
  {
   "cell_type": "code",
   "execution_count": null,
   "metadata": {},
   "outputs": [],
   "source": []
  },
  {
   "cell_type": "code",
   "execution_count": null,
   "metadata": {},
   "outputs": [],
   "source": []
  },
  {
   "cell_type": "code",
   "execution_count": null,
   "metadata": {},
   "outputs": [],
   "source": []
  },
  {
   "cell_type": "code",
   "execution_count": null,
   "metadata": {},
   "outputs": [],
   "source": []
  },
  {
   "cell_type": "code",
   "execution_count": null,
   "metadata": {},
   "outputs": [],
   "source": []
  },
  {
   "cell_type": "code",
   "execution_count": null,
   "metadata": {},
   "outputs": [],
   "source": []
  },
  {
   "cell_type": "code",
   "execution_count": null,
   "metadata": {},
   "outputs": [],
   "source": []
  },
  {
   "cell_type": "code",
   "execution_count": null,
   "metadata": {},
   "outputs": [],
   "source": []
  },
  {
   "cell_type": "code",
   "execution_count": null,
   "metadata": {},
   "outputs": [],
   "source": []
  },
  {
   "cell_type": "code",
   "execution_count": null,
   "metadata": {},
   "outputs": [],
   "source": []
  },
  {
   "cell_type": "code",
   "execution_count": null,
   "metadata": {},
   "outputs": [],
   "source": []
  },
  {
   "cell_type": "code",
   "execution_count": null,
   "metadata": {},
   "outputs": [],
   "source": []
  }
 ],
 "metadata": {
  "colab": {
   "collapsed_sections": [],
   "name": "COLORS.ipynb",
   "provenance": [],
   "version": "0.3.2"
  },
  "kernelspec": {
   "display_name": "Python 3",
   "language": "python",
   "name": "python3"
  },
  "language_info": {
   "codemirror_mode": {
    "name": "ipython",
    "version": 3
   },
   "file_extension": ".py",
   "mimetype": "text/x-python",
   "name": "python",
   "nbconvert_exporter": "python",
   "pygments_lexer": "ipython3",
   "version": "3.6.5"
  }
 },
 "nbformat": 4,
 "nbformat_minor": 1
}
